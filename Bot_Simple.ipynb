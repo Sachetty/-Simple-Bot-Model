{
  "nbformat": 4,
  "nbformat_minor": 0,
  "metadata": {
    "colab": {
      "name": "Bot-Simple.ipynb",
      "provenance": [],
      "collapsed_sections": [],
      "authorship_tag": "ABX9TyPc1CLvlazOLZ4No4ciX6ST",
      "include_colab_link": true
    },
    "kernelspec": {
      "name": "python3",
      "display_name": "Python 3"
    }
  },
  "cells": [
    {
      "cell_type": "markdown",
      "metadata": {
        "id": "view-in-github",
        "colab_type": "text"
      },
      "source": [
        "<a href=\"https://colab.research.google.com/github/Sachetty/-Simple-Bot-Model/blob/main/Bot_Simple.ipynb\" target=\"_parent\"><img src=\"https://colab.research.google.com/assets/colab-badge.svg\" alt=\"Open In Colab\"/></a>"
      ]
    },
    {
      "cell_type": "code",
      "metadata": {
        "id": "uR6uUpFly-Wb"
      },
      "source": [
        "import os"
      ],
      "execution_count": null,
      "outputs": []
    },
    {
      "cell_type": "code",
      "metadata": {
        "id": "Ai4ecgN6xPdb"
      },
      "source": [
        "def start():\r\n",
        "  #Introduce the chatbot\r\n",
        "  print('Welcome to MineiroOvos online attendant. ')\r\n",
        "  #Type name \r\n",
        "  name = input('Type your name, please: ') \r\n",
        "  #Type Email\r\n",
        "  email = input('Type your E-mail, please: ')\r\n",
        "  #Menu options\r\n",
        "  while True:\r\n",
        "    answer = input(f'How can I help you? {os.linesep} [1] - Egg price information {os.linesep} [2] - Information on delivery locations{os.linesep} [3] - Vendor number {os.linesep} [4] - Where we are located {os.linesep} [Exit] {os.linesep}')\r\n",
        "    if answer == 'Exit':\r\n",
        "       break\r\n",
        "    else:\r\n",
        "      process_response(answer,name)"
      ],
      "execution_count": null,
      "outputs": []
    },
    {
      "cell_type": "code",
      "metadata": {
        "id": "XKsN4sFi13k4"
      },
      "source": [
        "def process_response(answer, name):\r\n",
        "  if answer == '1':\r\n",
        "    print(f'{os.linesep}{name}{os.linesep} Big white eggs : 10.00  {os.linesep} Industrial white eggs : 08.00  {os.linesep} Red Eggs : 12.00 {os.linesep}')\r\n",
        "  elif answer == '2':\r\n",
        "   print(f'{os.linesep}{name}{os.linesep} Monday to Wednesday :{os.linesep} Chorozinho {os.linesep} Morada Nova {os.linesep} Quixeré {os.linesep} Russas {os.linesep} Jaguaruana {os.linesep} Itaiçaba {os.linesep} ')\r\n",
        "   print(f'{os.linesep} Thursday to Saturday :{os.linesep} Caucaia {os.linesep} Paraipaba {os.linesep} Itapipoca {os.linesep} Uruburetama {os.linesep} Itapajé {os.linesep} Umirim {os.linesep} ')\r\n",
        "  elif answer == '3':\r\n",
        "   print(f'{os.linesep}{name}{os.linesep} Altair : (85)99111-3220 {os.linesep} Sachetty : (85)99232-3450 ')\r\n",
        "  elif answer == '4':\r\n",
        "   print(f'{os.linesep}{name}{os.linesep} R. Maria José Nogueira,{os.linesep}788-848Horizonte - CE 62880-000 {os.linesep}')\r\n",
        "  else:\r\n",
        "   print(f'{os.linesep}{name} Please enter numbers 1, 2, 3 or 4 {os.linesep}')"
      ],
      "execution_count": null,
      "outputs": []
    },
    {
      "cell_type": "code",
      "metadata": {
        "id": "LXeZmb7O_r40",
        "colab": {
          "base_uri": "https://localhost:8080/"
        },
        "outputId": "9af50961-9429-41bb-f664-38414bb25634"
      },
      "source": [
        "if __name__ == '__main__':\r\n",
        "  start()"
      ],
      "execution_count": null,
      "outputs": [
        {
          "output_type": "stream",
          "text": [
            "Welcome to MineiroOvos online attendant. \n",
            "Type your name, please: Venicio\n",
            "Type your E-mail, please: salavei@gmail.com\n",
            "How can I help you? \n",
            " [1] - Egg price information \n",
            " [2] - Information on delivery locations\n",
            " [3] - Vendor number \n",
            " [4] - Where we are located \n",
            " [Exit] \n",
            "2\n",
            "\n",
            "Venicio\n",
            " Monday to Wednesday :\n",
            " Chorozinho \n",
            " Morada Nova \n",
            " Quixeré \n",
            " Russas \n",
            " Jaguaruana \n",
            " Itaiçaba \n",
            " \n",
            "\n",
            " Thursday to Saturday :\n",
            " Caucaia \n",
            " Paraipaba \n",
            " Itapipoca \n",
            " Uruburetama \n",
            " Itapajé \n",
            " Umirim \n",
            " \n",
            "How can I help you? \n",
            " [1] - Egg price information \n",
            " [2] - Information on delivery locations\n",
            " [3] - Vendor number \n",
            " [4] - Where we are located \n",
            " [Exit] \n",
            "Exit\n"
          ],
          "name": "stdout"
        }
      ]
    }
  ]
}